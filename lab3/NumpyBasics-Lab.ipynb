{
 "cells": [
  {
   "cell_type": "code",
   "execution_count": 15,
   "id": "d3d7f217-376b-4ec7-bcdc-165b12fcd673",
   "metadata": {},
   "outputs": [],
   "source": [
    "'''Creating Arrays'''\n",
    "# Create a 1D NumPy array named arr1 with the elements 2, 4, 6, 8, and 10.\n",
    "arr1=([2, 4, 6, 8, 10])"
   ]
  },
  {
   "cell_type": "code",
   "execution_count": 16,
   "id": "b404ad4f-c219-4072-9826-5501e3554db6",
   "metadata": {},
   "outputs": [],
   "source": [
    "# Create a 2D NumPy array named arr2 with two rows: [1, 3, 5] and [7, 9, 11]\n",
    "arr3=([[1, 3, 5], [7, 9, 11]])"
   ]
  },
  {
   "cell_type": "code",
   "execution_count": 25,
   "id": "b2ad1bd2-05b6-4132-b361-2b73f103c5a4",
   "metadata": {},
   "outputs": [
    {
     "name": "stdout",
     "output_type": "stream",
     "text": [
      "Original Array: [2, 4, 6, 8, 10]\n",
      "2 + 5 = 7\n",
      "4 + 5 = 9\n",
      "6 + 5 = 11\n",
      "8 + 5 = 13\n",
      "10 + 5 = 15\n"
     ]
    }
   ],
   "source": [
    "'''Array Operations'''\n",
    "# Add 5 to each element of arr1\n",
    "print(\"Original Array:\", arr1)\n",
    "for i in arr1:\n",
    "    res = i + 5\n",
    "    print(f\"{i} + 5 = {res}\")"
   ]
  },
  {
   "cell_type": "code",
   "execution_count": 29,
   "id": "ff858ca3-f7fa-45f7-8e54-75053a19829c",
   "metadata": {},
   "outputs": [
    {
     "name": "stdout",
     "output_type": "stream",
     "text": [
      "[[1, 3, 5], [7, 9, 11]]\n",
      "Original Array: [[1, 3, 5], [7, 9, 11]] \n",
      "\n",
      "1 * 3 = 3\n",
      "3 * 3 = 9\n",
      "5 * 3 = 15\n",
      "7 * 3 = 21\n",
      "9 * 3 = 27\n",
      "11 * 3 = 33\n"
     ]
    }
   ],
   "source": [
    "# Multiply each element of arr2 by 3.\n",
    "print(\"Original Array:\", arr3, \"\\n\")\n",
    "for i in arr3:\n",
    "    for j in i:\n",
    "        res = j*3\n",
    "        print(f\"{j} * 3 = {res}\")"
   ]
  },
  {
   "cell_type": "code",
   "execution_count": 32,
   "id": "d2c5c014-cfae-4a17-afd6-ba33bd847323",
   "metadata": {},
   "outputs": [
    {
     "name": "stdout",
     "output_type": "stream",
     "text": [
      "ndim: 2, shape: (2, 3), size: 6\n",
      "Array: [[1, 3, 5], [7, 9, 11]]\n"
     ]
    }
   ],
   "source": [
    "'''Array Attributes'''\n",
    "# Print the dimensions ( ndim ), shape, and size of arr2\n",
    "import numpy as np\n",
    "ndim = np.ndim(arr3)\n",
    "shape = np.shape(arr3)\n",
    "size = np.size(arr3)\n",
    "print(f\"ndim: {ndim}, shape: {shape}, size: {size}\") \n",
    "print(f\"Array: {arr3}\")"
   ]
  },
  {
   "cell_type": "code",
   "execution_count": 18,
   "id": "f0ccc3b0-296a-48fb-a702-0092676c8de8",
   "metadata": {},
   "outputs": [
    {
     "name": "stdout",
     "output_type": "stream",
     "text": [
      "Data Type: int32\n"
     ]
    }
   ],
   "source": [
    "# Print the data type ( dtype ) of arr1\n",
    "a=np.array(arr1)\n",
    "dtype=a.dtype\n",
    "print(f\"Data Type: {dtype}\")"
   ]
  },
  {
   "cell_type": "code",
   "execution_count": 48,
   "id": "0ef05153-56e5-4f2f-a595-dc99793bd068",
   "metadata": {},
   "outputs": [
    {
     "name": "stdout",
     "output_type": "stream",
     "text": [
      "Array:\n",
      " [ 2  4  6  8 10]\n",
      "First Element: 2, Second Element: 4\n"
     ]
    }
   ],
   "source": [
    "'''Slicing and Indexing'''\n",
    "# Extract the first two elements of arr1\n",
    "print(\"Array:\\n\", np.array(arr1))\n",
    "print(f\"First Element: {arr1[0]}, Second Element: {arr1[1]}\")"
   ]
  },
  {
   "cell_type": "code",
   "execution_count": 47,
   "id": "7fd47e4e-19d6-4087-baed-b71901b90000",
   "metadata": {},
   "outputs": [
    {
     "name": "stdout",
     "output_type": "stream",
     "text": [
      "Array:\n",
      " [[ 1  3  5]\n",
      " [ 7  9 11]]\n",
      "Second row: [7, 9, 11]\n"
     ]
    }
   ],
   "source": [
    "# Extract the second row of arr2\n",
    "print(\"Array:\\n\", np.array(arr3))\n",
    "print(f\"Second row: {arr3[1]}\")"
   ]
  },
  {
   "cell_type": "code",
   "execution_count": 59,
   "id": "1a8e5ae1-f287-4d22-85ac-360506be8767",
   "metadata": {},
   "outputs": [
    {
     "name": "stdout",
     "output_type": "stream",
     "text": [
      "Array:\n",
      " [ 2  4  6  8 10]\n",
      "1st position: 2, 3rd position: 6\n"
     ]
    }
   ],
   "source": [
    "'''Fancy Indexing'''\n",
    "# Select the elements at index positions 1 and 3 of arr1\n",
    "print(\"Array:\\n\", np.array(arr1))\n",
    "print(f\"1st position: {a[0]}, 3rd position: {a[2]}\")"
   ]
  },
  {
   "cell_type": "code",
   "execution_count": 61,
   "id": "92c40e07-58ec-4a26-999d-7bcb8b0a4662",
   "metadata": {},
   "outputs": [
    {
     "name": "stdout",
     "output_type": "stream",
     "text": [
      "Array: [ 2  4  6  8 10]\n",
      "2 + 3 = 5\n",
      "4 + 3 = 7\n",
      "6 + 3 = 9\n",
      "8 + 3 = 11\n",
      "10 + 3 = 13\n"
     ]
    }
   ],
   "source": [
    "'''Broadcasting and Mathematical Functions'''\n",
    "# Add 3 to every element in arr1\n",
    "print(\"Array:\", a)\n",
    "for i in a:\n",
    "    res = i + 3\n",
    "    print(f\"{i} + 3 = {res}\")"
   ]
  },
  {
   "cell_type": "code",
   "execution_count": 65,
   "id": "5f2b15e1-b457-455a-8b9a-c3134906947a",
   "metadata": {},
   "outputs": [
    {
     "name": "stdout",
     "output_type": "stream",
     "text": [
      "Array: [ 2  4  6  8 10]\n",
      "2 * 2 = 4\n",
      "4 * 4 = 16\n",
      "6 * 6 = 36\n",
      "8 * 8 = 64\n",
      "10 * 10 = 100\n"
     ]
    }
   ],
   "source": [
    "# Find the square root of each element in arr1\n",
    "print(\"Array:\", a)\n",
    "for i in a:\n",
    "    res = i*i\n",
    "    print(f\"{i} * {i} = {res}\")"
   ]
  },
  {
   "cell_type": "code",
   "execution_count": 70,
   "id": "2fd08889-a11a-48db-8a85-73adc61628be",
   "metadata": {},
   "outputs": [
    {
     "name": "stdout",
     "output_type": "stream",
     "text": [
      "Array: [ 2  4  6  8 10]\n",
      "2sin = 0.909\n",
      "4sin = -0.757\n",
      "6sin = -0.279\n",
      "8sin = 0.989\n",
      "10sin = -0.544\n"
     ]
    }
   ],
   "source": [
    "# Apply the sine function to each element in arr1\n",
    "import math\n",
    "print(\"Array:\", a)\n",
    "for i in a:\n",
    "    res = np.sin(i)\n",
    "    rounded_res = round(res, 3)\n",
    "    print(f\"{i}sin = {rounded_res}\")"
   ]
  },
  {
   "cell_type": "code",
   "execution_count": 13,
   "id": "bae79610-7d51-4701-abee-664295d1c50a",
   "metadata": {},
   "outputs": [
    {
     "name": "stdout",
     "output_type": "stream",
     "text": [
      "Array \n",
      "arr1: [2, 4, 6, 8, 10], \n",
      "arr3: [[1, 3, 5], [7, 9, 11]]\n",
      "\n",
      "arr1: [ 2  4  6  8 10] \n",
      "arr3: \n",
      "[[ 1  3  5]\n",
      " [ 7  9 11]]\n",
      "\n"
     ]
    },
    {
     "ename": "NameError",
     "evalue": "name 'a' is not defined",
     "output_type": "error",
     "traceback": [
      "\u001b[1;31m---------------------------------------------------------------------------\u001b[0m",
      "\u001b[1;31mNameError\u001b[0m                                 Traceback (most recent call last)",
      "Cell \u001b[1;32mIn[13], line 9\u001b[0m\n\u001b[0;32m      5\u001b[0m \u001b[38;5;28mprint\u001b[39m(\u001b[38;5;124mf\u001b[39m\u001b[38;5;124m\"\u001b[39m\u001b[38;5;124marr1: \u001b[39m\u001b[38;5;132;01m{\u001b[39;00mnp\u001b[38;5;241m.\u001b[39marray(arr1)\u001b[38;5;132;01m}\u001b[39;00m\u001b[38;5;124m \u001b[39m\u001b[38;5;130;01m\\n\u001b[39;00m\u001b[38;5;124marr3: \u001b[39m\u001b[38;5;130;01m\\n\u001b[39;00m\u001b[38;5;132;01m{\u001b[39;00mnp\u001b[38;5;241m.\u001b[39marray(arr3)\u001b[38;5;132;01m}\u001b[39;00m\u001b[38;5;130;01m\\n\u001b[39;00m\u001b[38;5;124m\"\u001b[39m)\n\u001b[0;32m      7\u001b[0m val\u001b[38;5;241m=\u001b[39m[\u001b[38;5;241m12\u001b[39m, \u001b[38;5;241m14\u001b[39m, \u001b[38;5;241m16\u001b[39m, \u001b[38;5;241m18\u001b[39m, \u001b[38;5;241m20\u001b[39m]\n\u001b[1;32m----> 9\u001b[0m stacked_arr \u001b[38;5;241m=\u001b[39m np\u001b[38;5;241m.\u001b[39mvstack((\u001b[43ma\u001b[49m, val))\n\u001b[0;32m     11\u001b[0m \u001b[38;5;28mprint\u001b[39m(\u001b[38;5;124mf\u001b[39m\u001b[38;5;124m\"\u001b[39m\u001b[38;5;124mArray \u001b[39m\u001b[38;5;130;01m\\n\u001b[39;00m\u001b[38;5;124marr1: \u001b[39m\u001b[38;5;132;01m{\u001b[39;00ma\u001b[38;5;132;01m}\u001b[39;00m\u001b[38;5;124m, \u001b[39m\u001b[38;5;130;01m\\n\u001b[39;00m\u001b[38;5;124mval: \u001b[39m\u001b[38;5;132;01m{\u001b[39;00mval\u001b[38;5;132;01m}\u001b[39;00m\u001b[38;5;130;01m\\n\u001b[39;00m\u001b[38;5;124m\"\u001b[39m)\n\u001b[0;32m     12\u001b[0m \u001b[38;5;28mprint\u001b[39m(\u001b[38;5;124m\"\u001b[39m\u001b[38;5;124mStacked array (vertically):\u001b[39m\u001b[38;5;130;01m\\n\u001b[39;00m\u001b[38;5;124m\"\u001b[39m, stacked_arr)\n",
      "\u001b[1;31mNameError\u001b[0m: name 'a' is not defined"
     ]
    }
   ],
   "source": [
    "'''Stacking and Concatenation'''\n",
    "# Vertically stack arr1 and another array arr3 with values [12, 14, 16, 18, 20]\n",
    "\n",
    "print(f\"Array \\narr1: {arr1}, \\narr3: {arr3}\\n\")\n",
    "print(f\"arr1: {np.array(arr1)} \\narr3: \\n{np.array(arr3)}\\n\")\n",
    "\n",
    "val=[12, 14, 16, 18, 20]\n",
    "\n",
    "stacked_arr = np.vstack((a, val))\n",
    "\n",
    "print(f\"Array \\narr1: {a}, \\nval: {val}\\n\")\n",
    "print(\"Stacked array (vertically):\\n\", stacked_arr)"
   ]
  },
  {
   "cell_type": "code",
   "execution_count": 12,
   "id": "f79a6cd1-3260-4146-8dd0-a71739062556",
   "metadata": {},
   "outputs": [
    {
     "name": "stdout",
     "output_type": "stream",
     "text": [
      "Arr1: [2, 4, 6, 8, 10]\n",
      "Arr3: [[1, 3, 5], [7, 9, 11]]\n"
     ]
    },
    {
     "ename": "ValueError",
     "evalue": "all the input arrays must have same number of dimensions, but the array at index 0 has 2 dimension(s) and the array at index 1 has 1 dimension(s)",
     "output_type": "error",
     "traceback": [
      "\u001b[1;31m---------------------------------------------------------------------------\u001b[0m",
      "\u001b[1;31mValueError\u001b[0m                                Traceback (most recent call last)",
      "Cell \u001b[1;32mIn[12], line 6\u001b[0m\n\u001b[0;32m      3\u001b[0m \u001b[38;5;28mprint\u001b[39m(\u001b[38;5;124m\"\u001b[39m\u001b[38;5;124mArr1:\u001b[39m\u001b[38;5;124m\"\u001b[39m, arr1)\n\u001b[0;32m      4\u001b[0m \u001b[38;5;28mprint\u001b[39m(\u001b[38;5;124m\"\u001b[39m\u001b[38;5;124mArr3:\u001b[39m\u001b[38;5;124m\"\u001b[39m, arr3)\n\u001b[1;32m----> 6\u001b[0m concatenated_array \u001b[38;5;241m=\u001b[39m \u001b[43mnp\u001b[49m\u001b[38;5;241;43m.\u001b[39;49m\u001b[43mconcatenate\u001b[49m\u001b[43m(\u001b[49m\u001b[43m(\u001b[49m\u001b[43marr3\u001b[49m\u001b[43m,\u001b[49m\u001b[43m \u001b[49m\u001b[43marr4\u001b[49m\u001b[43m)\u001b[49m\u001b[43m,\u001b[49m\u001b[43m \u001b[49m\u001b[43maxis\u001b[49m\u001b[38;5;241;43m=\u001b[39;49m\u001b[38;5;241;43m1\u001b[39;49m\u001b[43m)\u001b[49m\n\u001b[0;32m      7\u001b[0m \u001b[38;5;28mprint\u001b[39m(concatenated_array)\n",
      "File \u001b[1;32m<__array_function__ internals>:200\u001b[0m, in \u001b[0;36mconcatenate\u001b[1;34m(*args, **kwargs)\u001b[0m\n",
      "\u001b[1;31mValueError\u001b[0m: all the input arrays must have same number of dimensions, but the array at index 0 has 2 dimension(s) and the array at index 1 has 1 dimension(s)"
     ]
    }
   ],
   "source": [
    "# Concatenate arr2 along axis 1 with a new array arr4 containing two columns [13, 15] and [17, 19]\n",
    "import numpy as np\n",
    "print(\"Arr1:\", arr1)\n",
    "print(\"Arr3:\", arr3)\n",
    "\n",
    "concatenated_array = np.concatenate((arr3, arr4), axis=1)\n",
    "print(concatenated_array)"
   ]
  },
  {
   "cell_type": "code",
   "execution_count": 21,
   "id": "974404ba-a3f6-4c88-9b2a-79536d264d17",
   "metadata": {},
   "outputs": [
    {
     "name": "stdout",
     "output_type": "stream",
     "text": [
      "Array:\n",
      " [ 2  4  6  8 10]\n"
     ]
    }
   ],
   "source": [
    "''' Masking and Boolean Indexing '''\n",
    "# Create a boolean mask for arr1 that selects elements greater than 6.\n",
    "print(\"Array:\\n\", a)\n",
    "# a = arr1\n",
    "mask = a > 6"
   ]
  },
  {
   "cell_type": "code",
   "execution_count": 20,
   "id": "8357dd26-02b4-40a6-8a79-314738790c68",
   "metadata": {},
   "outputs": [
    {
     "name": "stdout",
     "output_type": "stream",
     "text": [
      "Mask to select elements greater than 6: [ 8 10]\n"
     ]
    }
   ],
   "source": [
    "# Use the mask to select the elements from arr1\n",
    "filtered_arr = a[mask]\n",
    "\n",
    "print(\"Mask to select elements greater than 6:\", filtered_arr)"
   ]
  },
  {
   "cell_type": "code",
   "execution_count": 24,
   "id": "23060587-4701-4171-87cd-a5b058bb9457",
   "metadata": {},
   "outputs": [
    {
     "name": "stdout",
     "output_type": "stream",
     "text": [
      "Reshaped arr1:\n",
      " [[ 2]\n",
      " [ 4]\n",
      " [ 6]\n",
      " [ 8]\n",
      " [10]]\n"
     ]
    }
   ],
   "source": [
    "''' Reshaping and Transposing '''\n",
    "# Reshape arr1 into a 2D array with shape (5, 1)\n",
    "reshaped_arr1 = a.reshape(5, 1)\n",
    "print(\"Reshaped arr1:\\n\", reshaped_arr1)\n",
    "ndim = np.ndim(a)\n",
    "shape = np.shape(a)\n",
    "size = np.size(a)\n"
   ]
  },
  {
   "cell_type": "code",
   "execution_count": null,
   "id": "25b95385-6012-41df-a5d1-3202d07a3192",
   "metadata": {},
   "outputs": [],
   "source": [
    "# Transpose the arr2 array"
   ]
  },
  {
   "cell_type": "code",
   "execution_count": null,
   "id": "c5446022-d937-49df-b0d1-9a0b6ced56cb",
   "metadata": {},
   "outputs": [],
   "source": []
  },
  {
   "cell_type": "code",
   "execution_count": null,
   "id": "33307259-8146-452b-b45c-265e2a674871",
   "metadata": {},
   "outputs": [],
   "source": []
  },
  {
   "cell_type": "code",
   "execution_count": null,
   "id": "e812559b-2581-44cd-807d-dfb5965d22e9",
   "metadata": {},
   "outputs": [],
   "source": []
  },
  {
   "cell_type": "code",
   "execution_count": null,
   "id": "b52d55a0-3c01-4a87-bd7c-e60732d59236",
   "metadata": {},
   "outputs": [],
   "source": []
  }
 ],
 "metadata": {
  "kernelspec": {
   "display_name": "Python 3 (ipykernel)",
   "language": "python",
   "name": "python3"
  },
  "language_info": {
   "codemirror_mode": {
    "name": "ipython",
    "version": 3
   },
   "file_extension": ".py",
   "mimetype": "text/x-python",
   "name": "python",
   "nbconvert_exporter": "python",
   "pygments_lexer": "ipython3",
   "version": "3.8.19"
  }
 },
 "nbformat": 4,
 "nbformat_minor": 5
}
