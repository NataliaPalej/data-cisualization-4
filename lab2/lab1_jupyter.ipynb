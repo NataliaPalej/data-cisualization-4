{
 "cells": [
  {
   "cell_type": "code",
   "execution_count": 65,
   "id": "ce8b6b73-b799-4925-8723-02183ed5e546",
   "metadata": {},
   "outputs": [],
   "source": [
    "import numpy as np\n",
    "import math"
   ]
  },
  {
   "cell_type": "code",
   "execution_count": 1,
   "id": "269a8b9f-2839-4351-830c-0bb9f1f8f919",
   "metadata": {},
   "outputs": [],
   "source": [
    "a=[\"1\", \"2\", \"3\", \"4\", \"5\"]"
   ]
  },
  {
   "cell_type": "code",
   "execution_count": 4,
   "id": "fbcb28e3-74ad-4db9-ac1e-0ea0dcc47b9f",
   "metadata": {},
   "outputs": [],
   "source": [
    "f = lambda x, y : x + y"
   ]
  },
  {
   "cell_type": "code",
   "execution_count": 3,
   "id": "fce3e520-cb38-42b9-98e5-7893fc07f531",
   "metadata": {},
   "outputs": [],
   "source": [
    "from functools import reduce "
   ]
  },
  {
   "cell_type": "code",
   "execution_count": 5,
   "id": "1736f295-7ea5-416f-aea7-26e0c79e2f50",
   "metadata": {},
   "outputs": [
    {
     "data": {
      "text/plain": [
       "'12345'"
      ]
     },
     "execution_count": 5,
     "metadata": {},
     "output_type": "execute_result"
    }
   ],
   "source": [
    "reduce (f, a)"
   ]
  },
  {
   "cell_type": "code",
   "execution_count": 6,
   "id": "99004605-a6be-4777-8a68-35bed26d3ee7",
   "metadata": {},
   "outputs": [],
   "source": [
    "words = [\"apple\", \"orange\", \"pear\"]"
   ]
  },
  {
   "cell_type": "code",
   "execution_count": 7,
   "id": "d7693ec4-78d8-4f6d-8c16-3496f82681e4",
   "metadata": {},
   "outputs": [
    {
     "data": {
      "text/plain": [
       "['pear', 'apple', 'orange']"
      ]
     },
     "execution_count": 7,
     "metadata": {},
     "output_type": "execute_result"
    }
   ],
   "source": [
    "sorted(words, key=len)"
   ]
  },
  {
   "cell_type": "code",
   "execution_count": 1,
   "id": "b3bfbc65-dc59-45f3-9972-8bdadf4f91f2",
   "metadata": {},
   "outputs": [
    {
     "name": "stdout",
     "output_type": "stream",
     "text": [
      "List a:  [2, 4, 5, 6, 8, 10]\n",
      "\n",
      "List Length:  6\n",
      "\n"
     ]
    }
   ],
   "source": [
    "# Create a list named a with the elements 2, 4, 6, 8, and 10.\n",
    "a = [2, 4, 5, 6, 8, 10]\n",
    "print(\"List a: \", a)\n",
    "print()\n",
    "print(\"List Length: \", len(a))\n",
    "print()"
   ]
  },
  {
   "cell_type": "code",
   "execution_count": 16,
   "id": "8be6c889-31c4-48e9-983d-98a40d3af3a6",
   "metadata": {},
   "outputs": [
    {
     "name": "stdout",
     "output_type": "stream",
     "text": [
      "For loop through the list\n",
      "Item:  2\n",
      "Item:  4\n",
      "Item:  5\n",
      "Item:  6\n",
      "Item:  8\n",
      "Item:  10\n",
      "\n"
     ]
    }
   ],
   "source": [
    "# Use a for loop to iterate over list a and print each item.\n",
    "print(\"For loop through the list\")\n",
    "for i in a:\n",
    "    print(\"Item: \", i)\n",
    "print()"
   ]
  },
  {
   "cell_type": "code",
   "execution_count": 17,
   "id": "1fbd36c7-564a-48b4-852b-1f32057a30cd",
   "metadata": {},
   "outputs": [
    {
     "name": "stdout",
     "output_type": "stream",
     "text": [
      "Skip element 6\n",
      "2 :  2\n",
      "4 :  4\n",
      "5 :  5\n",
      "Skipping element:  6\n",
      "8 :  8\n",
      "10 :  10\n",
      "\n"
     ]
    }
   ],
   "source": [
    "# Construct a while loop to process elements in list a\n",
    "# Utilize the continue statement to skip the element 6 \n",
    "print(\"Skip element 6\")\n",
    "y = 0\n",
    "while y < len(a):\n",
    "    if a[y] == 6:\n",
    "        print(\"Skipping element: \", a[y])\n",
    "        y += 1\n",
    "        continue\n",
    "    else:\n",
    "        print(a[y], \": \", a[y])\n",
    "        y += 1\n",
    "print()"
   ]
  },
  {
   "cell_type": "code",
   "execution_count": 18,
   "id": "1503c545-d22f-4615-b348-3b812edf5c55",
   "metadata": {},
   "outputs": [
    {
     "name": "stdout",
     "output_type": "stream",
     "text": [
      "Values less than 7\n",
      "i:  2\n",
      "i:  4\n",
      "i:  5\n",
      "i:  6\n",
      "\n"
     ]
    }
   ],
   "source": [
    "# For elements less than 7, directly print the value.\n",
    "print(\"Values less than 7\")\n",
    "for i in a:\n",
    "    if i < 7:\n",
    "        print(\"i: \", i)\n",
    "print()"
   ]
  },
  {
   "cell_type": "code",
   "execution_count": 26,
   "id": "9befdf4c-3e08-4836-aeb4-f44e9d92159e",
   "metadata": {},
   "outputs": [
    {
     "name": "stdout",
     "output_type": "stream",
     "text": [
      "Values more than 7, print their square\n",
      "8 ^2:  64\n",
      "10 ^2:  100\n",
      "\n"
     ]
    }
   ],
   "source": [
    "# For elements greater than 7, print their square.\n",
    "print(\"Values more than 7, print their square\")\n",
    "for i in a:\n",
    "    if i > 7:\n",
    "        print(i, \"^2: \", i*i)\n",
    "print()"
   ]
  },
  {
   "cell_type": "code",
   "execution_count": 29,
   "id": "a96b8868-c8d1-4188-a56f-a5d579904b4a",
   "metadata": {},
   "outputs": [
    {
     "name": "stdout",
     "output_type": "stream",
     "text": [
      "Ternary Operator\n",
      "v = 14 \n",
      "\n",
      "40\n",
      "\n"
     ]
    }
   ],
   "source": [
    "\"\"\"\n",
    "Ternary Operator\n",
    "Implement the following logic using a single line of code: \n",
    "For an integer variable v, assign x a value of 10 if v < 3 , 20 if 3 ≤ v < 10 , and 40 if v ≥ 10.\n",
    "\"\"\"\n",
    "print(\"Ternary Operator\")\n",
    "v = 14\n",
    "x = 10 if v < 3 else 20 if 3 <= v < 10 else 40\n",
    "print(\"v =\", v, \"\\n\")\n",
    "print(x)\n",
    "print()"
   ]
  },
  {
   "cell_type": "code",
   "execution_count": 30,
   "id": "765409ba-dd6c-4ba8-9724-543d3e3312e8",
   "metadata": {},
   "outputs": [
    {
     "name": "stdout",
     "output_type": "stream",
     "text": [
      "Function Practice\n"
     ]
    }
   ],
   "source": [
    "\"\"\"\n",
    "Function Practice\n",
    "Write a function that accepts two parameters. The function should:\n",
    "Concatenate the parameters if both are strings.\n",
    "Concatenate the parameters if both are lists.\n",
    "Add the parameters together if both are numbers.\n",
    "Test your code.\n",
    "\"\"\"\n",
    "print(\"Function Practice\")\n",
    "\n",
    "def function(a, b):\n",
    "    return a + b\n"
   ]
  },
  {
   "cell_type": "code",
   "execution_count": 36,
   "id": "7101a77b-83ba-483a-a07b-e73c1ac8af7c",
   "metadata": {},
   "outputs": [
    {
     "name": "stdout",
     "output_type": "stream",
     "text": [
      "Concentrate String (Hello, world):  Hello world\n",
      "Concentrate Lists [1, 2, 3], [4, 5, 6]:  [1, 2, 3, 4, 5, 6]\n",
      "Numbers Addition (1, 2):  3\n",
      "\n"
     ]
    }
   ],
   "source": [
    "# Concatenate the parameters if both are strings.\n",
    "res = function(\"Hello \", \"world\")\n",
    "print(\"Concentrate String (Hello, world): \", res)\n",
    "# Concatenate the parameters if both are lists.\n",
    "res1 = function([1, 2, 3], [4, 5, 6])\n",
    "print(\"Concentrate Lists [1, 2, 3], [4, 5, 6]: \", res1)\n",
    "# Add the parameters together if both are numbers.\n",
    "res2 = function(1, 2)\n",
    "print(\"Numbers Addition (1, 2): \", res2)\n",
    "print()"
   ]
  },
  {
   "cell_type": "code",
   "execution_count": 37,
   "id": "f66f7f53-70a5-4bdc-8edb-1825731ebc34",
   "metadata": {},
   "outputs": [
    {
     "name": "stdout",
     "output_type": "stream",
     "text": [
      "OOP Practice\n"
     ]
    }
   ],
   "source": [
    "'''\n",
    "OOP Practice\n",
    "Define a class Animal with an attribute name and a method make_sound() .\n",
    "'''\n",
    "print(\"OOP Practice\")\n",
    "\n",
    "\n",
    "class Animal:\n",
    "    # class attribute\n",
    "    name = \"\"\n",
    "\n",
    "    # class method\n",
    "    def make_sound(self):\n",
    "        print(\"Animal sound\")"
   ]
  },
  {
   "cell_type": "code",
   "execution_count": 50,
   "id": "869c2d94-827f-45ec-ae43-9be54d8ce26b",
   "metadata": {},
   "outputs": [
    {
     "name": "stdout",
     "output_type": "stream",
     "text": [
      "Dog Name: Lilly\n",
      "Woof Woof\n",
      "\n"
     ]
    }
   ],
   "source": [
    "'''\n",
    "Create a subclass Dog derived from Animal with a modified attribute name\n",
    "and a unique method bark().\n",
    "'''\n",
    "class Dog(Animal):\n",
    "    # Overriding the constructor to set a default name for Dog\n",
    "    def __init__(self, name):\n",
    "        self.name = name\n",
    "\n",
    "    # Overriding make_sound method\n",
    "    def make_sound(self):\n",
    "        print(f\"{self.name}: Woof Woof\")\n",
    "        \n",
    "    def getName(self):\n",
    "       return self.name\n",
    "\n",
    "\n",
    "dog = Dog(\"Lilly\")\n",
    "print(\"Dog Name:\", dog.getName())\n",
    "dog.make_sound()\n",
    "print()"
   ]
  },
  {
   "cell_type": "code",
   "execution_count": 51,
   "id": "d4767eaa-7054-4bca-a20e-9031dedce7d6",
   "metadata": {},
   "outputs": [
    {
     "name": "stdout",
     "output_type": "stream",
     "text": [
      "Dictionary Practice\n",
      "kvtable:  {'a': 'x', 'b': 'y', 'c': 'z', 'd': 'w'}\n"
     ]
    }
   ],
   "source": [
    "'''\n",
    "Dictionary Practice\n",
    "Construct a dictionary kvtable  with the key-value pairs: {'a': 'x', 'b': 'y', 'c': 'z', 'd': 'w'} .\n",
    "'''\n",
    "print(\"Dictionary Practice\")\n",
    "\n",
    "kvtable = {'a': 'x', 'b': 'y', 'c': 'z', 'd': 'w'}\n",
    "print(\"kvtable: \", kvtable)"
   ]
  },
  {
   "cell_type": "code",
   "execution_count": 52,
   "id": "ac3d9ddd-99c1-4082-a58d-bd9ed2804983",
   "metadata": {},
   "outputs": [
    {
     "name": "stdout",
     "output_type": "stream",
     "text": [
      "kvtable2:  {'a': 'y', 'b': 'y', 'e': 'u', 'f': 'w'}\n"
     ]
    }
   ],
   "source": [
    "'''\n",
    "Create another dictionary kvtable2  with the key-value pairs: {'a': 'y', 'b': 'y', 'e': 'u', 'f': 'w'} .\n",
    "'''\n",
    "kvtable2 = {'a': 'y', 'b': 'y', 'e': 'u', 'f': 'w'}\n",
    "print(\"kvtable2: \", kvtable2)"
   ]
  },
  {
   "cell_type": "code",
   "execution_count": 53,
   "id": "ed52bbdc-0107-4b03-90a0-9d417a672a8e",
   "metadata": {},
   "outputs": [
    {
     "name": "stdout",
     "output_type": "stream",
     "text": [
      "After Merge:  {'a': 'y', 'b': 'y', 'c': 'z', 'd': 'w', 'e': 'u', 'f': 'w'}\n",
      "\n"
     ]
    }
   ],
   "source": [
    "# Merge kvtable2 into kvtable using the method dict.update() and analyze the resulting dictionary.\n",
    "kvtable.update(kvtable2)\n",
    "print(\"After Merge: \", kvtable)\n",
    "print()\n",
    "# after merging table2 to table1, a:x pair got replaced with a:y"
   ]
  },
  {
   "cell_type": "code",
   "execution_count": 54,
   "id": "19e0689b-b84f-4d40-8a07-64e3d499260e",
   "metadata": {},
   "outputs": [
    {
     "name": "stdout",
     "output_type": "stream",
     "text": [
      "Tuple Practice\n"
     ]
    }
   ],
   "source": [
    "'''Tuple Practice'''\n",
    "# Develop a function foo() designed to compute the product of an indefinite number of inputs.\n",
    "print(\"Tuple Practice\")\n",
    "\n",
    "def foo(*args):\n",
    "    product = 1\n",
    "    for i in args:\n",
    "        product *= i\n",
    "    return product"
   ]
  },
  {
   "cell_type": "code",
   "execution_count": 56,
   "id": "65e7d429-9152-49aa-a425-049d7dfb9dc5",
   "metadata": {},
   "outputs": [
    {
     "name": "stdout",
     "output_type": "stream",
     "text": [
      "foo(*args):  (5, 6, 7)\n",
      "foo(*args):  (5, 10, 15, 20, 25, 30)\n",
      "\n"
     ]
    }
   ],
   "source": [
    "# Create a tuple (5, 6, 7) , and use the function foo() to compute the product of the unpacked tuple values.\n",
    "tuple=(5, 6, 7)\n",
    "tuple2=(5, 10, 15, 20, 25, 30)\n",
    "print(\"foo(*args): \", foo(tuple))\n",
    "print(\"foo(*args): \", foo(tuple2))\n",
    "print()"
   ]
  },
  {
   "cell_type": "code",
   "execution_count": 58,
   "id": "bebd5461-d17f-419d-9db3-03c9553441e7",
   "metadata": {},
   "outputs": [
    {
     "name": "stdout",
     "output_type": "stream",
     "text": [
      "List Comprehension\n",
      "{1: 2, 2: 3, 3: 4}\n",
      "\n"
     ]
    }
   ],
   "source": [
    "\"\"\" \n",
    "Magics \n",
    "List Comprehension\n",
    "\"\"\"\n",
    "print(\"List Comprehension\")\n",
    "# Use list comprehension to construct a dictionary with the structure {1:2,2:3,3:4}\n",
    "dic = {x: x + 1 for x in range(1, 4)}\n",
    "print(dic)\n",
    "print()"
   ]
  },
  {
   "cell_type": "code",
   "execution_count": 59,
   "id": "71b1ba7e-d385-45e5-92a1-48efeb970bd1",
   "metadata": {},
   "outputs": [
    {
     "name": "stdout",
     "output_type": "stream",
     "text": [
      "a:  (1, 2) \tb:  3\n",
      "\n"
     ]
    }
   ],
   "source": [
    "'''Tuple Unpacking'''\n",
    "# Initialize a = 1 and b = (2, 3). Swap values to achieve a = (1, 2) and b = 3\n",
    "a = 1\n",
    "b = (2, 3)\n",
    "# swapping the values \n",
    "a, b = (a, b[0]), b[1]\n",
    "\n",
    "print(\"a: \", a, \"\\tb: \", b)\n",
    "print()"
   ]
  },
  {
   "cell_type": "code",
   "execution_count": 63,
   "id": "c249d67a-2e02-49ee-8c81-1d428738f287",
   "metadata": {},
   "outputs": [
    {
     "name": "stdout",
     "output_type": "stream",
     "text": [
      "Dictionary before swapping:  {1: 2, 2: 3, 3: 4}\n",
      "Dictionary after swapping:  {2: 1, 3: 2, 4: 3}\n"
     ]
    }
   ],
   "source": [
    "'''Using Lambda Expression'''\n",
    "# Create a lambda function designed to invert the key-value pairing of a dictionary. \n",
    "# Assume there are no duplicate values in the dictionary {1:2, 2:3,3:4} .\n",
    "dictionary = {1:2, 2:3,3:4}\n",
    "print(\"Dictionary before swapping: \", dictionary)\n",
    "swapped_dictionary = lambda x: {v: k for k, v in x.items()}\n",
    "swapped = swapped_dictionary(dictionary)\n",
    "print(\"Dictionary after swapping: \", swapped)\n"
   ]
  },
  {
   "cell_type": "code",
   "execution_count": 70,
   "id": "57b76606-0b3c-4425-ad75-f5c45d4508ed",
   "metadata": {},
   "outputs": [
    {
     "name": "stdout",
     "output_type": "stream",
     "text": [
      "loop_0, value_4.0\n",
      "loop_1, value_6.2\n",
      "loop_2, value_8.4\n",
      "loop_3, value_10.6\n",
      "loop_4, value_12.8\n",
      "loop_5, value_15.0\n",
      "loop_6, value_17.2\n",
      "loop_7, value_19.4\n",
      "loop_8, value_21.6\n",
      "loop_9, value_23.8\n",
      "loop_10, value_26.0\n",
      "loop_11, value_28.2\n",
      "loop_12, value_30.4\n",
      "loop_13, value_32.6\n",
      "loop_14, value_34.8\n",
      "loop_15, value_37.0\n",
      "loop_16, value_39.2\n",
      "loop_17, value_41.4\n",
      "loop_18, value_43.6\n",
      "loop_19, value_45.8\n",
      "loop_20, value_48.0\n",
      "loop_21, value_50.2\n",
      "loop_22, value_52.4\n",
      "loop_23, value_54.6\n",
      "loop_24, value_56.8\n",
      "loop_25, value_59.0\n",
      "loop_26, value_61.2\n",
      "loop_27, value_63.4\n",
      "loop_28, value_65.6\n",
      "loop_29, value_67.8\n",
      "loop_30, value_70.0\n",
      "loop_31, value_72.2\n",
      "loop_32, value_74.4\n",
      "loop_33, value_76.6\n",
      "loop_34, value_78.8\n",
      "loop_35, value_81.0\n",
      "loop_36, value_83.2\n",
      "loop_37, value_85.4\n",
      "loop_38, value_87.6\n",
      "loop_39, value_89.8\n",
      "loop_40, value_92.0\n",
      "loop_41, value_94.2\n",
      "loop_42, value_96.4\n",
      "loop_43, value_98.6\n"
     ]
    }
   ],
   "source": [
    "'''Using F-strings'''\n",
    "# Create a range iterator range(4, 100, 2.2) , iterate through it using a for loop, and utilize an F-string to output formatted strings like \n",
    "# \"loop_{i}, value_{value from the iterator}\".\n",
    "range = enumerate(np.arange(4, 100, 2.2))\n",
    "\n",
    "for i, value in range:\n",
    "    val = round(value, 2)\n",
    "    print(f\"loop_{i}, value_{val}\")"
   ]
  },
  {
   "cell_type": "code",
   "execution_count": 12,
   "id": "9b326d8a-a9a0-41bb-80e0-8586bfe0e94a",
   "metadata": {},
   "outputs": [
    {
     "name": "stdout",
     "output_type": "stream",
     "text": [
      "True\n",
      "False\n"
     ]
    }
   ],
   "source": [
    "'''Combine Iterables'''\n",
    "# Write a function to check if two lists [1, 2, 3, 4] and [1, 2, 4, 4] are identical using the zip function.\n",
    "list1=[1, 2, 3, 4]\n",
    "list2=[1, 2, 4, 4]\n",
    "\n",
    "# Advanced: Use .any() and list comprehension to check list equality in a single line of code.\n",
    "is_identical = True\n",
    "for i, j in zip(list1, list2):\n",
    "    is_identical=is_identical and i==j\n",
    "print(is_identical)"
   ]
  },
  {
   "cell_type": "code",
   "execution_count": 72,
   "id": "6e559d9c-72b6-45fd-9d6f-0eaf052e643b",
   "metadata": {},
   "outputs": [
    {
     "name": "stdout",
     "output_type": "stream",
     "text": [
      "This is content of some_file.txt\n"
     ]
    }
   ],
   "source": [
    "'''Context Manager'''\n",
    "# Open and print the contents of a text file using a context manager to ensure proper handling of file operations.\n",
    "with open(\"some_file.txt\") as file:\n",
    "    line = file.readline()\n",
    "    print(line)\n"
   ]
  },
  {
   "cell_type": "code",
   "execution_count": null,
   "id": "374f5f40-09e3-4b0b-89f8-733626330c5b",
   "metadata": {},
   "outputs": [],
   "source": [
    "\"\"\"Functional Programming\"\"\"\n",
    "print(\"Functional Programming\")"
   ]
  },
  {
   "cell_type": "code",
   "execution_count": 1,
   "id": "e7096a78-dc57-4417-a070-b2ed22cb9d77",
   "metadata": {},
   "outputs": [
    {
     "name": "stdout",
     "output_type": "stream",
     "text": [
      "Original List: [1, 2, 3, 4, 5]\n",
      "Squared List: [1, 4, 9, 16, 25]\n"
     ]
    }
   ],
   "source": [
    "'''Map Practice'''\n",
    "# Prepare a lambda function lambda x: x**2 and apply it to the list [1, 2, 3, 4, 5] using the map function.\n",
    "func = lambda x: x**2\n",
    "l = [1, 2, 3, 4, 5]\n",
    "res = list(map(func, l))\n",
    "\n",
    "print(f\"Original List: {l}\")\n",
    "print(f\"Squared List: {res}\")"
   ]
  },
  {
   "cell_type": "code",
   "execution_count": 7,
   "id": "2445a2a9-b413-4862-a938-80b79c5c93f2",
   "metadata": {},
   "outputs": [],
   "source": [
    "from functools import lru_cache, reduce"
   ]
  },
  {
   "cell_type": "code",
   "execution_count": 8,
   "id": "e69c7816-179f-4977-b4f6-cb1a4aa6b523",
   "metadata": {},
   "outputs": [
    {
     "name": "stdout",
     "output_type": "stream",
     "text": [
      "abcbdf123\n"
     ]
    }
   ],
   "source": [
    "'''Reduce Practice'''\n",
    "# Develop a lambda function, then use it with list reduce to concat all strings in a ['abc', 'bdf', '123'], the result should be \"abc bdf 123\"\n",
    "\n",
    "val = ['abc', 'bdf', '123']\n",
    "res = reduce(lambda x, y: x+y, val)\n",
    "print(res)"
   ]
  },
  {
   "cell_type": "code",
   "execution_count": 18,
   "id": "8d65f0cb-1cd5-4632-a9ad-cea2cdd07fb7",
   "metadata": {},
   "outputs": [
    {
     "name": "stdout",
     "output_type": "stream",
     "text": [
      "Dic: {1: 2, 2: 4, 3: 4, 5: 5}\n",
      "{2: [1], 4: [2, 3], 5: [5]}\n"
     ]
    }
   ],
   "source": [
    "# Develop a lambda function that inverts the key-value relationship in a dictionary, suitable even for dictionaries with duplicate values \n",
    "# in the dictionary {1:2, 2:4, 3:4, 5:5} .\n",
    "\n",
    "dic = {1:2, 2:4, 3:4, 5:5}\n",
    "print(f\"Dic: {dic}\")\n",
    "\n",
    "func = lambda x, y: list(x) + list([y])\n",
    "\n",
    "invert_dict = lambda d: reduce(lambda acc, kv: {**acc, kv[1]: acc.get(kv[1], []) + [kv[0]]}, d.items(), {})\n",
    "res = invert_dict(dic)\n",
    "print(res)"
   ]
  },
  {
   "cell_type": "code",
   "execution_count": null,
   "id": "209e5209-b8b9-40db-b247-0053bca670b7",
   "metadata": {},
   "outputs": [],
   "source": []
  }
 ],
 "metadata": {
  "kernelspec": {
   "display_name": "Python 3 (ipykernel)",
   "language": "python",
   "name": "python3"
  },
  "language_info": {
   "codemirror_mode": {
    "name": "ipython",
    "version": 3
   },
   "file_extension": ".py",
   "mimetype": "text/x-python",
   "name": "python",
   "nbconvert_exporter": "python",
   "pygments_lexer": "ipython3",
   "version": "3.8.19"
  }
 },
 "nbformat": 4,
 "nbformat_minor": 5
}
